{
 "cells": [
  {
   "cell_type": "code",
   "execution_count": 1,
   "metadata": {},
   "outputs": [
    {
     "name": "stdout",
     "output_type": "stream",
     "text": [
      "Test connection to comet.sdsc.edu\n",
      "Connection successful\n"
     ]
    }
   ],
   "source": [
    "from nbsubmit import cluster\n",
    "comet = cluster.get(\"comet\")"
   ]
  },
  {
   "cell_type": "code",
   "execution_count": 2,
   "metadata": {},
   "outputs": [
    {
     "name": "stdout",
     "output_type": "stream",
     "text": [
      "Mounted comet.sdsc.edu:/oasis/scratch/comet/zonca/temp_project to /home/zonca/comet\n"
     ]
    }
   ],
   "source": [
    "comet.mount()"
   ]
  },
  {
   "cell_type": "code",
   "execution_count": 6,
   "metadata": {},
   "outputs": [
    {
     "name": "stdout",
     "output_type": "stream",
     "text": [
      "Filesystem                                              Size  Used Avail Use% Mounted on\n",
      "udev                                                    2.0G   12K  2.0G   1% /dev\n",
      "tmpfs                                                   396M  392K  395M   1% /run\n",
      "/dev/sda1                                                20G  6.1G   13G  33% /\n",
      "none                                                    4.0K     0  4.0K   0% /sys/fs/cgroup\n",
      "none                                                    5.0M  4.0K  5.0M   1% /run/lock\n",
      "none                                                    2.0G     0  2.0G   0% /run/shm\n",
      "none                                                    100M   20K  100M   1% /run/user\n",
      "comet.sdsc.edu:/oasis/scratch/comet/zonca/temp_project  2.6P  2.2P  342T  87% /home/zonca/comet\n"
     ]
    }
   ],
   "source": [
    "!df -h"
   ]
  },
  {
   "cell_type": "code",
   "execution_count": 7,
   "metadata": {},
   "outputs": [
    {
     "name": "stdout",
     "output_type": "stream",
     "text": [
      "\n",
      "Submitted job job_run_2 to comet\n"
     ]
    }
   ],
   "source": [
    "comet.launch_job(\"job_run_2\", \"job.ipynb\", hours=.1)"
   ]
  },
  {
   "cell_type": "code",
   "execution_count": 8,
   "metadata": {},
   "outputs": [
    {
     "data": {
      "text/plain": [
       "'PENDING'"
      ]
     },
     "execution_count": 8,
     "metadata": {},
     "output_type": "execute_result"
    }
   ],
   "source": [
    "comet.check_job(\"job_run_2\")"
   ]
  },
  {
   "cell_type": "code",
   "execution_count": 14,
   "metadata": {},
   "outputs": [
    {
     "data": {
      "text/plain": [
       "'COMPLETED'"
      ]
     },
     "execution_count": 14,
     "metadata": {},
     "output_type": "execute_result"
    }
   ],
   "source": [
    "comet.check_job(\"job_run_2\")"
   ]
  },
  {
   "cell_type": "code",
   "execution_count": 15,
   "metadata": {},
   "outputs": [
    {
     "name": "stdout",
     "output_type": "stream",
     "text": [
      "No need to retrieve results You can access the files locally in the /home/zonca/comet/nbsubmit folder\n"
     ]
    }
   ],
   "source": [
    "comet.retrieve_results(\"job_run_2\")"
   ]
  },
  {
   "cell_type": "code",
   "execution_count": 16,
   "metadata": {},
   "outputs": [
    {
     "name": "stdout",
     "output_type": "stream",
     "text": [
      "executed_14180305_job.ipynb  job.ipynb               results.h5\n",
      "job.cmd                      job_run_2.14180305.out\n"
     ]
    }
   ],
   "source": [
    "%ls ~/comet/nbsubmit/job_run_2/"
   ]
  },
  {
   "cell_type": "code",
   "execution_count": null,
   "metadata": {},
   "outputs": [],
   "source": []
  }
 ],
 "metadata": {
  "kernelspec": {
   "display_name": "Python 3",
   "language": "python",
   "name": "python3"
  },
  "language_info": {
   "codemirror_mode": {
    "name": "ipython",
    "version": 3
   },
   "file_extension": ".py",
   "mimetype": "text/x-python",
   "name": "python",
   "nbconvert_exporter": "python",
   "pygments_lexer": "ipython3",
   "version": "3.6.3"
  }
 },
 "nbformat": 4,
 "nbformat_minor": 2
}
