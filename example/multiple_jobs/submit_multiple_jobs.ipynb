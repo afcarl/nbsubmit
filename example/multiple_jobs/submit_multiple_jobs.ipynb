{
 "cells": [
  {
   "cell_type": "code",
   "execution_count": 1,
   "metadata": {},
   "outputs": [],
   "source": [
    "from nbsubmit import clusters\n",
    "comet = clusters[\"comet\"]"
   ]
  },
  {
   "cell_type": "code",
   "execution_count": 2,
   "metadata": {},
   "outputs": [
    {
     "name": "stdout",
     "output_type": "stream",
     "text": [
      "\n",
      "Submitted job job_run_0 to Comet\n",
      "\n",
      "Submitted job job_run_1 to Comet\n",
      "\n",
      "Submitted job job_run_2 to Comet\n",
      "\n",
      "Submitted job job_run_3 to Comet\n",
      "\n",
      "Submitted job job_run_4 to Comet\n",
      "\n",
      "Submitted job job_run_5 to Comet\n",
      "\n",
      "Submitted job job_run_6 to Comet\n",
      "\n",
      "Submitted job job_run_7 to Comet\n",
      "\n",
      "Submitted job job_run_8 to Comet\n",
      "\n",
      "Submitted job job_run_9 to Comet\n"
     ]
    }
   ],
   "source": [
    "for i in range(10):\n",
    "    comet.launch_job(\"job_run_{}\".format(i), \"job.ipynb\",\n",
    "                     environment={\"INPUTFILE\":\"input_data_{}.h5\".format(i)})"
   ]
  },
  {
   "cell_type": "code",
   "execution_count": 3,
   "metadata": {},
   "outputs": [
    {
     "data": {
      "text/plain": [
       "'COMPLETED'"
      ]
     },
     "execution_count": 3,
     "metadata": {},
     "output_type": "execute_result"
    }
   ],
   "source": [
    "comet.check_job(\"job_run_5\")"
   ]
  },
  {
   "cell_type": "code",
   "execution_count": 4,
   "metadata": {},
   "outputs": [
    {
     "data": {
      "text/plain": [
       "'COMPLETED'"
      ]
     },
     "execution_count": 4,
     "metadata": {},
     "output_type": "execute_result"
    }
   ],
   "source": [
    "comet.check_job(\"job_run_9\")"
   ]
  },
  {
   "cell_type": "code",
   "execution_count": 5,
   "metadata": {},
   "outputs": [
    {
     "data": {
      "text/plain": [
       "'COMPLETED'"
      ]
     },
     "execution_count": 5,
     "metadata": {},
     "output_type": "execute_result"
    }
   ],
   "source": [
    "comet.check_job(\"job_run_1\")"
   ]
  },
  {
   "cell_type": "code",
   "execution_count": 5,
   "metadata": {},
   "outputs": [
    {
     "name": "stdout",
     "output_type": "stream",
     "text": [
      "\n",
      "\n",
      "\n",
      "\n",
      "\n",
      "\n",
      "\n",
      "\n",
      "\n",
      "\n"
     ]
    }
   ],
   "source": [
    "for i in range(10):\n",
    "    comet.retrieve_results(\"job_run_{}\".format(i))"
   ]
  },
  {
   "cell_type": "code",
   "execution_count": 6,
   "metadata": {},
   "outputs": [
    {
     "name": "stdout",
     "output_type": "stream",
     "text": [
      "nbsubmit/job_run_0:\n",
      "executed_13973770_job.ipynb  job.ipynb               LAST_JOB_ID\n",
      "job.cmd                      job_run_0.13973770.out  results_input_data_0.h5.h5\n",
      "\n",
      "nbsubmit/job_run_1:\n",
      "executed_13973508_job.ipynb  job.ipynb               LAST_JOB_ID\n",
      "executed_13973771_job.ipynb  job_run_1.13973508.out  results.h5\n",
      "job.cmd                      job_run_1.13973771.out  results_input_data_1.h5.h5\n",
      "\n",
      "nbsubmit/job_run_2:\n",
      "executed_13973774_job.ipynb  job.ipynb               LAST_JOB_ID\n",
      "job.cmd                      job_run_2.13973774.out  results_input_data_2.h5.h5\n",
      "\n",
      "nbsubmit/job_run_3:\n",
      "executed_13973775_job.ipynb  job.ipynb               LAST_JOB_ID\n",
      "job.cmd                      job_run_3.13973775.out  results_input_data_3.h5.h5\n",
      "\n",
      "nbsubmit/job_run_4:\n",
      "executed_13973776_job.ipynb  job.ipynb               LAST_JOB_ID\n",
      "job.cmd                      job_run_4.13973776.out  results_input_data_4.h5.h5\n",
      "\n",
      "nbsubmit/job_run_5:\n",
      "executed_13973777_job.ipynb  job.ipynb               LAST_JOB_ID\n",
      "job.cmd                      job_run_5.13973777.out  results_input_data_5.h5.h5\n",
      "\n",
      "nbsubmit/job_run_6:\n",
      "executed_13973779_job.ipynb  job.ipynb               LAST_JOB_ID\n",
      "job.cmd                      job_run_6.13973779.out  results_input_data_6.h5.h5\n",
      "\n",
      "nbsubmit/job_run_7:\n",
      "executed_13973780_job.ipynb  job.ipynb               LAST_JOB_ID\n",
      "job.cmd                      job_run_7.13973780.out  results_input_data_7.h5.h5\n",
      "\n",
      "nbsubmit/job_run_8:\n",
      "executed_13973781_job.ipynb  job.ipynb               LAST_JOB_ID\n",
      "job.cmd                      job_run_8.13973781.out  results_input_data_8.h5.h5\n",
      "\n",
      "nbsubmit/job_run_9:\n",
      "executed_13973782_job.ipynb  job.ipynb               LAST_JOB_ID\n",
      "job.cmd                      job_run_9.13973782.out  results_input_data_9.h5.h5\n"
     ]
    }
   ],
   "source": [
    "%ls nbsubmit/job_run_*"
   ]
  },
  {
   "cell_type": "code",
   "execution_count": null,
   "metadata": {},
   "outputs": [],
   "source": []
  }
 ],
 "metadata": {
  "kernelspec": {
   "display_name": "Python 3",
   "language": "python",
   "name": "python3"
  },
  "language_info": {
   "codemirror_mode": {
    "name": "ipython",
    "version": 3
   },
   "file_extension": ".py",
   "mimetype": "text/x-python",
   "name": "python",
   "nbconvert_exporter": "python",
   "pygments_lexer": "ipython3",
   "version": "3.6.3"
  }
 },
 "nbformat": 4,
 "nbformat_minor": 2
}
